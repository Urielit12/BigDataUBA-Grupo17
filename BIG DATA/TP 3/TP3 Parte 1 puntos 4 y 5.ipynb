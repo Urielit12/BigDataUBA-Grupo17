{
 "cells": [
  {
   "cell_type": "code",
   "execution_count": 71,
   "id": "02d4488a-4bc5-4f77-8b81-22e045f69b93",
   "metadata": {},
   "outputs": [],
   "source": [
    "import pandas as pd\n",
    "import os\n",
    "import matplotlib.pyplot as plt\n",
    "import seaborn as sns\n",
    "import numpy as np\n",
    "\n",
    "# Carga de las bases de datos\n",
    "df_2004 = pd.read_stata('usu_individual_T104.dta', convert_categoricals=False) \n",
    "df_2024 = pd.read_excel('usu_individual_T124.xlsx')\n",
    "\n",
    "# Unificamos nombres de columnas a mayúsculas\n",
    "df_2004.columns = df_2004.columns.str.upper()\n",
    "df_2024.columns = df_2024.columns.str.upper()\n",
    "\n",
    "# Obtenemos columnas comunes para trabajar con los mismos datos\n",
    "columnas_comunes = df_2004.columns.intersection(df_2024.columns)\n",
    "\n",
    "# Filtramos ambas bases por esas columnas\n",
    "df_2004_filtrado = df_2004[columnas_comunes]\n",
    "df_2024_filtrado = df_2024[columnas_comunes]\n",
    "\n",
    "# Combinamos las bases\n",
    "df_combinado = pd.concat([df_2004_filtrado, df_2024_filtrado], ignore_index=True)\n",
    "\n",
    "df_eph = df_combinado\n",
    "\n",
    "df_eph.to_excel('EPH_2004_2024.xlsx', index=False)"
   ]
  },
  {
   "cell_type": "code",
   "execution_count": 72,
   "id": "90f529c1-9773-48a1-b8ce-3da207d39e30",
   "metadata": {},
   "outputs": [
    {
     "name": "stdout",
     "output_type": "stream",
     "text": [
      "Estadísticas descriptivas de horastrab:\n",
      "\n",
      "Promedio                20.594300\n",
      "Desviación estándar     23.866202\n",
      "Mínimo                   0.000000\n",
      "Mediana (p50)            8.000000\n",
      "Máximo                 137.000000\n",
      "Name: horastrab, dtype: float64\n"
     ]
    }
   ],
   "source": [
    "variables_a_limpiar = ['PP3E_TOT', 'PP3F_TOT']\n",
    "\n",
    "df_eph[variables_a_limpiar] = df_eph[variables_a_limpiar].replace([99, 999, 9999], np.nan)\n",
    "\n",
    "# Variable 'horastrab'\n",
    "df_eph['horastrab'] = df_eph['PP3E_TOT'] + df_eph['PP3F_TOT']\n",
    "\n",
    "estadisticas_horas = df_eph['horastrab'].describe(percentiles=[0.5])[['mean', 'std', 'min', '50%', 'max']]\n",
    "estadisticas_horas.index = ['Promedio', 'Desviación estándar', 'Mínimo', 'Mediana (p50)', 'Máximo']\n",
    "\n",
    "print(\"Estadísticas descriptivas de horastrab:\\n\")\n",
    "print(estadisticas_horas)\n"
   ]
  },
  {
   "cell_type": "markdown",
   "id": "9f50b71e-624a-4d0a-8e34-1abd4377668f",
   "metadata": {},
   "source": [
    "Luego de limpiar los valores correspondientes a \"No sabe/No responde\" (99, 999 y 9999), y analizando la base completa, tenemos como resultado un promedio de 20,6 horas trabajadas por semana, que sugiere una tendencia hacia la subocupación o trabajos de jornada parcial en la muestra. \n",
    "La desviación estándar de 23.9 horas indica una alta dispersión por lo que indica que hay un rango muy amplio de horas trabajadas.\n",
    "El mínimo es 0, reflejando casos sin horas trabajadas. \n",
    "La mediana es de 8 horas.\n",
    "El máximo de 137 horas es elevado, casi 20 horas por día, posible en situaciones de trabajo informal o múlitiples ocupaciones."
   ]
  },
  {
   "cell_type": "code",
   "execution_count": 73,
   "id": "8b972291-c46e-4a0d-be11-89bf83470566",
   "metadata": {},
   "outputs": [
    {
     "name": "stdout",
     "output_type": "stream",
     "text": [
      "Estadísticas descriptivas - Año 2004:\n",
      "mean     14.131987\n",
      "std      22.961491\n",
      "min       0.000000\n",
      "50%       0.000000\n",
      "max     137.000000\n",
      "Name: horastrab, dtype: float64\n",
      "\n",
      "Estadísticas descriptivas - Año 2024:\n",
      "mean     35.002513\n",
      "std      19.062046\n",
      "min       0.000000\n",
      "50%      40.000000\n",
      "max     133.000000\n",
      "Name: horastrab, dtype: float64\n"
     ]
    }
   ],
   "source": [
    "estad_2004 = df_eph[df_eph['ANO4'] == 2004]['horastrab'].describe(percentiles=[0.5])[['mean', 'std', 'min', '50%', 'max']]\n",
    "print(\"Estadísticas descriptivas - Año 2004:\")\n",
    "print(estad_2004)\n",
    "\n",
    "estad_2024 = df_eph[df_eph['ANO4'] == 2024]['horastrab'].describe(percentiles=[0.5])[['mean', 'std', 'min', '50%', 'max']]\n",
    "print(\"\\nEstadísticas descriptivas - Año 2024:\")\n",
    "print(estad_2024)\n"
   ]
  },
  {
   "cell_type": "markdown",
   "id": "aa184068-b59e-4ebf-b0fe-6f60dccfcf96",
   "metadata": {},
   "source": [
    "En 2004, tanto la media (14,1) como la mediana (0) indican que una gran parte de la muestra no trabajaba o trabajaba muy pocas horas. En cambio, en 2024, la mediana de 40 horas, muestra que la mayoría de las personas ocupadas trabajan jornada completa.\n",
    "La desviación estándar es mayor en 2004, lo que refuerza la idea de una distribución más desigual (algunos trabajan muchas horas y muchos no trabajan nada). En 2024, la dispersión es más baja y centrada en 40hs."
   ]
  },
  {
   "cell_type": "code",
   "execution_count": 74,
   "id": "14a45110-78d9-477d-9ce0-2f9e29408e4c",
   "metadata": {},
   "outputs": [
    {
     "name": "stdout",
     "output_type": "stream",
     "text": [
      "Estadísticas descriptivas - PEA (15-65 años) 2004:\n",
      " mean     32.572354\n",
      "std      24.851400\n",
      "min       0.000000\n",
      "50%      35.000000\n",
      "max     137.000000\n",
      "Name: horastrab, dtype: float64\n",
      "\n",
      "Estadísticas descriptivas - PEA (15-65 años) 2024:\n",
      " mean     35.174711\n",
      "std      19.018338\n",
      "min       0.000000\n",
      "50%      40.000000\n",
      "max     133.000000\n",
      "Name: horastrab, dtype: float64\n"
     ]
    }
   ],
   "source": [
    "# Filtrar por edad (15 a 65 años) y condición de PEA (ocupado o desocupado)\n",
    "df_pea_edad = df_eph[(df_eph['CH06'] >= 15) & (df_eph['CH06'] <= 65) & (df_eph['ESTADO'].isin([1, 2]))]\n",
    "\n",
    "pea_edad_2004 = df_pea_edad[df_pea_edad['ANO4'] == 2004]\n",
    "pea_edad_2024 = df_pea_edad[df_pea_edad['ANO4'] == 2024]\n",
    "\n",
    "estad_pea_2004 = pea_edad_2004['horastrab'].describe(percentiles=[0.5])[['mean', 'std', 'min', '50%', 'max']]\n",
    "estad_pea_2024 = pea_edad_2024['horastrab'].describe(percentiles=[0.5])[['mean', 'std', 'min', '50%', 'max']]\n",
    "\n",
    "print(\"Estadísticas descriptivas - PEA (15-65 años) 2004:\\n\", estad_pea_2004)\n",
    "print(\"\\nEstadísticas descriptivas - PEA (15-65 años) 2024:\\n\", estad_pea_2024)\n"
   ]
  },
  {
   "cell_type": "markdown",
   "id": "c6f3926f-eecc-4b94-b8e0-83518c1702fb",
   "metadata": {},
   "source": [
    "Analizando los datos, tomando a la Población Económicamente Activa de 15 a 65 años, el promedio de horas trabajadas es 2.6 horas más en 2024 (32.6 a 35.2).\n",
    "La mediana aumenta de 35 horas en 2004 a 40 horas en 2024, lo que sugiere que más personas en 2024 están trabajando a jornada completa.\n",
    "La desviación estándar baja de 24.85 horas en 2004 a 19.02 en 2024, lo que indica que la distribución de las horas trabajadas en 2024 está más concentrada en torno a las 40 horas, y hay menos variabilidad en las horas trabajadas.\n",
    "A pesar de la mayor concentración de jornadas cercanas a las 40 horas, los valores máximos (137 horas en 2004 y 133 horas en 2024), que son valores atípicos, puede reflejar trabajos con muchas horas adicionales, trabajo informal o personas con trabajos múltiples."
   ]
  },
  {
   "cell_type": "code",
   "execution_count": 75,
   "id": "8ee9a40e-c768-454d-9937-fc6a84bc6ff8",
   "metadata": {},
   "outputs": [
    {
     "name": "stdout",
     "output_type": "stream",
     "text": [
      "                                                    2004  2024  Total\n",
      "Cantidad observaciones                              5343  4850  10193\n",
      "Cantidad de observaciones con Nas en la variabl...     5     6     11\n",
      "Cantidad de Ocupados                                1789  2111   3900\n",
      "Cantidad de Desocupados                              215   127    342\n",
      "Cantidad de variables limpias y homogeneizadas       173    74     74\n"
     ]
    }
   ],
   "source": [
    "# Filtrar la base para la región NEA\n",
    "df_nea = df_eph[df_eph['REGION'] == 41]\n",
    "\n",
    "# Función resumen por año ajustada\n",
    "def resumen_por_año(df, año):\n",
    "    df_año = df[df['ANO4'] == año]\n",
    "    total_obs = df_año.shape[0]\n",
    "    nas_estado = (df_año['ESTADO'] == 0).sum()\n",
    "    ocupados = (df_año['ESTADO'] == 1).sum()\n",
    "    desocupados = (df_año['ESTADO'] == 2).sum()\n",
    "    variables_limpias = df_año.dropna(axis=1).shape[1]\n",
    "    return total_obs, nas_estado, ocupados, desocupados, variables_limpias\n",
    "\n",
    "res_2004 = resumen_por_año(df_nea, 2004)\n",
    "res_2024 = resumen_por_año(df_nea, 2024)\n",
    "\n",
    "# Totales\n",
    "total_obs = df_nea.shape[0]\n",
    "nas_estado_total = (df_nea['ESTADO'] == 0).sum()\n",
    "ocupados_total = (df_nea['ESTADO'] == 1).sum()\n",
    "desocupados_total = (df_nea['ESTADO'] == 2).sum()\n",
    "variables_limpias_total = df_nea.dropna(axis=1).shape[1]\n",
    "\n",
    "# Tabla resumen\n",
    "tabla = pd.DataFrame({\n",
    "    '2004': res_2004,\n",
    "    '2024': res_2024,\n",
    "    'Total': [total_obs, nas_estado_total, ocupados_total, desocupados_total, variables_limpias_total]\n",
    "}, index=[\n",
    "    'Cantidad observaciones',\n",
    "    'Cantidad de observaciones con Nas en la variable \"Estado\"',\n",
    "    'Cantidad de Ocupados',\n",
    "    'Cantidad de Desocupados',\n",
    "    'Cantidad de variables limpias y homogeneizadas'\n",
    "])\n",
    "\n",
    "print(tabla)"
   ]
  },
  {
   "cell_type": "markdown",
   "id": "89f54adb-469f-4ee5-be75-b7568ae348ff",
   "metadata": {},
   "source": [
    "La base unificada para la región NEA cuenta con un total de 10193 observaciones, distribuidas entre 5343 en 2004 y 4850 en 2024. La cantidad de observaciones sin dato válido (Nas, que en la base está con el código 0) en la variable ESTADO es muy baja en ambos años, sumando apenas 11 casos en total, lo cual indica buena calidad de respuesta para esta variable. Respecto a la condición de actividad, en 2004 se registraron 1789 ocupados y 215 desocupados, mientras en el año 2024 los ocupados ascendieron a 2111 y los desocupados descendieron a 127, lo que podría estar reflejando cambios en el mercado laboral."
   ]
  },
  {
   "cell_type": "code",
   "execution_count": null,
   "id": "7785835b-bcd2-4673-9df9-7b3f173f8259",
   "metadata": {},
   "outputs": [],
   "source": []
  }
 ],
 "metadata": {
  "kernelspec": {
   "display_name": "Python 3 (ipykernel)",
   "language": "python",
   "name": "python3"
  },
  "language_info": {
   "codemirror_mode": {
    "name": "ipython",
    "version": 3
   },
   "file_extension": ".py",
   "mimetype": "text/x-python",
   "name": "python",
   "nbconvert_exporter": "python",
   "pygments_lexer": "ipython3",
   "version": "3.12.7"
  }
 },
 "nbformat": 4,
 "nbformat_minor": 5
}
